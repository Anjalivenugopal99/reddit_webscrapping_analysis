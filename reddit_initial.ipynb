{
 "cells": [
  {
   "cell_type": "code",
   "execution_count": 2,
   "metadata": {},
   "outputs": [],
   "source": [
    "import praw\n",
    "import re\n",
    "import schedule\n",
    "import csv\n",
    "import datetime\n",
    "import pickle\n"
   ]
  },
  {
   "cell_type": "code",
   "execution_count": 3,
   "metadata": {},
   "outputs": [
    {
     "name": "stderr",
     "output_type": "stream",
     "text": [
      "Version 7.0.0 of praw is outdated. Version 7.1.4 was released Sunday February 07, 2021.\n"
     ]
    }
   ],
   "source": [
    "my_client_id = \"aU5CZ-LIiXtUZg\"\n",
    "my_client_secret = \"xJCnDlCcJ-n0fQbwCEsoJqY0wHVWYw\"\n",
    "my_user_agent = \"Reddit Webscrapping\"\n",
    "my_username = \"EntertainmentShot784\"\n",
    "reddit = praw.Reddit(client_id = my_client_id,client_secret = my_client_secret,user_agent = my_user_agent,\n",
    "                    username = my_username)"
   ]
  },
  {
   "cell_type": "code",
   "execution_count": 4,
   "metadata": {},
   "outputs": [
    {
     "name": "stdout",
     "output_type": "stream",
     "text": [
      "None\n"
     ]
    }
   ],
   "source": [
    "print(reddit.user.me())"
   ]
  },
  {
   "cell_type": "code",
   "execution_count": 19,
   "metadata": {},
   "outputs": [],
   "source": [
    "output_dict = {}\n",
    "time_count = {}\n",
    "global start_time\n",
    "def stream_comments():\n",
    "    counter = 0\n",
    "    for comment in reddit.subreddit(\"c\").stream.comments():\n",
    "        counter +=1\n",
    "        time = get_time(comment)\n",
    "        matches = re.findall(r\"(\\b\\w(?:[A-Z]+[a-z]?[A-Z]*|[A-Z]*[a-z]?[A-Z]+){1}\\w\\b(?:\\s+(?:[A-Z]+[a-z]?[A-Z]*|[A-Z]*[a-z]?[A-Z]+){1}\\w\\b)*)\",comment.body)\n",
    "#         print(\"comment.body\",comment.body)\n",
    "        output_dict = find_word_count(matches)\n",
    "        time_count[time] = output_dict\n",
    "        process_data(time_count,counter)\n",
    "        \n",
    "#         write_to_file(time_count)\n",
    "        \n",
    "        "
   ]
  },
  {
   "cell_type": "code",
   "execution_count": 6,
   "metadata": {},
   "outputs": [],
   "source": [
    "d ={}\n",
    "def find_word_count(word_list):\n",
    "    for key in word_list: \n",
    "        if 3<len(key)<=5:\n",
    "            d[key] = d.get(key, 0) + 1\n",
    "\n",
    "    sorted(d.items(), key = lambda x: x[1], reverse = True)\n",
    "    return d"
   ]
  },
  {
   "cell_type": "code",
   "execution_count": 7,
   "metadata": {},
   "outputs": [],
   "source": [
    "# def write_to_file(op_dict):\n",
    "#     with open('output.csv', 'w') as output:\n",
    "#         writer = csv.writer(output)\n",
    "#         has_items = bool(op_dict)\n",
    "# #         print(op_dict,has_items)\n",
    "#         if has_items:\n",
    "#             for key, value in op_dict.items():\n",
    "#                 writer.writerow([key, value])"
   ]
  },
  {
   "cell_type": "code",
   "execution_count": 8,
   "metadata": {},
   "outputs": [],
   "source": [
    "def get_time(comment):\n",
    "... #stuff\n",
    "    time = datetime.datetime.fromtimestamp(comment.created_utc)\n",
    "    return time\n"
   ]
  },
  {
   "cell_type": "code",
   "execution_count": 9,
   "metadata": {},
   "outputs": [],
   "source": [
    "def time_frame():\n",
    "    limit = (datetime.datetime.now().strftime('%M'))\n",
    "    now = datetime.datetime.now()\n",
    "    now_minus_10 = now - datetime.timedelta(minutes = 10)\n",
    "    now_minus_5 = now- datetime.timedelta(minutes = 5)\n",
    "    return now_minus_10,now_minus_5"
   ]
  },
  {
   "cell_type": "code",
   "execution_count": 10,
   "metadata": {},
   "outputs": [],
   "source": [
    "start_time = datetime.datetime(2021, 2, 15, 10, 0, 0, 0)\n",
    "end_time= start_time + datetime.timedelta(hours=1)\n",
    "# \"2021-02-12 18:15:40.217379\""
   ]
  },
  {
   "cell_type": "code",
   "execution_count": 23,
   "metadata": {},
   "outputs": [],
   "source": [
    "\n",
    "def process_data(data_dict,counter):\n",
    "    global start_time\n",
    "    if counter ==1:\n",
    "        start_time = datetime.datetime(2021, 2, 22, 9, 0, 0, 0)\n",
    "    temp={}\n",
    "    delete = []\n",
    "    for key,value in data_dict.items():\n",
    "        end_time= start_time + datetime.timedelta(minutes=30)\n",
    "        if start_time<key<end_time:\n",
    "            for words,count in value.items():\n",
    "                temp[words] = count\n",
    "            delete.append(key)\n",
    "            write_to_file(temp,start_time,end_time) \n",
    "        if key>end_time:\n",
    "            start_time = end_time    \n",
    "    for i in delete:\n",
    "        del data_dict[i]\n",
    "    \n",
    "            \n",
    "                \n",
    "            \n",
    "        \n",
    "        \n"
   ]
  },
  {
   "cell_type": "code",
   "execution_count": 12,
   "metadata": {},
   "outputs": [
    {
     "data": {
      "text/plain": [
       "(datetime.datetime(2021, 2, 18, 14, 56, 26, 68724),\n",
       " datetime.datetime(2021, 2, 18, 15, 1, 26, 68724))"
      ]
     },
     "execution_count": 12,
     "metadata": {},
     "output_type": "execute_result"
    }
   ],
   "source": [
    "time_frame()"
   ]
  },
  {
   "cell_type": "code",
   "execution_count": 13,
   "metadata": {},
   "outputs": [],
   "source": [
    "def write_to_file(op_dict,st,et):\n",
    "    t1,t2 = time_frame()\n",
    "    st  =  st.strftime(\"%m%d%Y%H%M\")\n",
    "    et = et.strftime(\"%m%d%Y%H%M\")\n",
    "    for key,value in op_dict.items():\n",
    "        pickling_on = open(\"pickle_files/tempdata_\"+st+\"_\"+et+\".pickle\",'wb')\n",
    "        pickle.dump(op_dict, pickling_on)\n",
    "        pickling_on.close()\n",
    "            \n",
    "        "
   ]
  },
  {
   "cell_type": "code",
   "execution_count": 24,
   "metadata": {},
   "outputs": [
    {
     "ename": "KeyboardInterrupt",
     "evalue": "",
     "output_type": "error",
     "traceback": [
      "\u001b[1;31m---------------------------------------------------------------------------\u001b[0m",
      "\u001b[1;31mKeyboardInterrupt\u001b[0m                         Traceback (most recent call last)",
      "\u001b[1;32m<ipython-input-24-f20c440e1174>\u001b[0m in \u001b[0;36m<module>\u001b[1;34m\u001b[0m\n\u001b[1;32m----> 1\u001b[1;33m \u001b[0mstream_comments\u001b[0m\u001b[1;33m(\u001b[0m\u001b[1;33m)\u001b[0m\u001b[1;33m\u001b[0m\u001b[1;33m\u001b[0m\u001b[0m\n\u001b[0m",
      "\u001b[1;32m<ipython-input-19-ce4b46ca2eb7>\u001b[0m in \u001b[0;36mstream_comments\u001b[1;34m()\u001b[0m\n\u001b[0;32m      4\u001b[0m \u001b[1;32mdef\u001b[0m \u001b[0mstream_comments\u001b[0m\u001b[1;33m(\u001b[0m\u001b[1;33m)\u001b[0m\u001b[1;33m:\u001b[0m\u001b[1;33m\u001b[0m\u001b[1;33m\u001b[0m\u001b[0m\n\u001b[0;32m      5\u001b[0m     \u001b[0mcounter\u001b[0m \u001b[1;33m=\u001b[0m \u001b[1;36m0\u001b[0m\u001b[1;33m\u001b[0m\u001b[1;33m\u001b[0m\u001b[0m\n\u001b[1;32m----> 6\u001b[1;33m     \u001b[1;32mfor\u001b[0m \u001b[0mcomment\u001b[0m \u001b[1;32min\u001b[0m \u001b[0mreddit\u001b[0m\u001b[1;33m.\u001b[0m\u001b[0msubreddit\u001b[0m\u001b[1;33m(\u001b[0m\u001b[1;34m\"wallstreetbets\"\u001b[0m\u001b[1;33m)\u001b[0m\u001b[1;33m.\u001b[0m\u001b[0mstream\u001b[0m\u001b[1;33m.\u001b[0m\u001b[0mcomments\u001b[0m\u001b[1;33m(\u001b[0m\u001b[1;33m)\u001b[0m\u001b[1;33m:\u001b[0m\u001b[1;33m\u001b[0m\u001b[1;33m\u001b[0m\u001b[0m\n\u001b[0m\u001b[0;32m      7\u001b[0m         \u001b[0mcounter\u001b[0m \u001b[1;33m+=\u001b[0m\u001b[1;36m1\u001b[0m\u001b[1;33m\u001b[0m\u001b[1;33m\u001b[0m\u001b[0m\n\u001b[0;32m      8\u001b[0m         \u001b[0mtime\u001b[0m \u001b[1;33m=\u001b[0m \u001b[0mget_time\u001b[0m\u001b[1;33m(\u001b[0m\u001b[0mcomment\u001b[0m\u001b[1;33m)\u001b[0m\u001b[1;33m\u001b[0m\u001b[1;33m\u001b[0m\u001b[0m\n",
      "\u001b[1;32mF:\\softwares\\Python\\envs\\ml\\lib\\site-packages\\praw\\models\\util.py\u001b[0m in \u001b[0;36mstream_generator\u001b[1;34m(function, pause_after, skip_existing, attribute_name, exclude_before, **function_kwargs)\u001b[0m\n\u001b[0;32m    207\u001b[0m                 \u001b[1;32myield\u001b[0m \u001b[1;32mNone\u001b[0m\u001b[1;33m\u001b[0m\u001b[1;33m\u001b[0m\u001b[0m\n\u001b[0;32m    208\u001b[0m             \u001b[1;32melse\u001b[0m\u001b[1;33m:\u001b[0m\u001b[1;33m\u001b[0m\u001b[1;33m\u001b[0m\u001b[0m\n\u001b[1;32m--> 209\u001b[1;33m                 \u001b[0mtime\u001b[0m\u001b[1;33m.\u001b[0m\u001b[0msleep\u001b[0m\u001b[1;33m(\u001b[0m\u001b[0mexponential_counter\u001b[0m\u001b[1;33m.\u001b[0m\u001b[0mcounter\u001b[0m\u001b[1;33m(\u001b[0m\u001b[1;33m)\u001b[0m\u001b[1;33m)\u001b[0m\u001b[1;33m\u001b[0m\u001b[1;33m\u001b[0m\u001b[0m\n\u001b[0m",
      "\u001b[1;31mKeyboardInterrupt\u001b[0m: "
     ]
    }
   ],
   "source": [
    "stream_comments()"
   ]
  },
  {
   "cell_type": "code",
   "execution_count": 14,
   "metadata": {},
   "outputs": [],
   "source": [
    "####convert utc time to local####\n",
    "import calendar\n",
    "import time\n",
    "def utc_to_local(t):\n",
    "    timeto  = time.strptime(str(t), \"%Y-%m-%dT%H:%M:%S\")\n",
    "    secs = calendar.timegm(timeto)\n",
    "    return time.localtime(secs)"
   ]
  },
  {
   "cell_type": "code",
   "execution_count": 195,
   "metadata": {},
   "outputs": [
    {
     "name": "stdout",
     "output_type": "stream",
     "text": [
      "[{'TSLA': 45, 'YOLO': 15, 'OTM': 13, 'HITBYBRICK': 1, 'USD': 10, 'MSFT': 4, 'PLTR': 98, 'BAN': 4, 'PYPL': 1, 'SNDL': 20, 'HYLN': 1, 'GME': 107, 'SPY': 43, 'GUH': 5, 'WSB': 111, 'NOK': 6, 'BUY BUY BUY': 1, 'SPAC': 2, 'VFF': 7, 'IMO': 1, 'TSX': 1, 'AMD': 29, 'AUSTIST MICRO DICKS': 1, 'ANAL MISOGYNY DILEMMA': 1, 'ADVANCED MOONING DEVICES': 1, 'ZOM': 3, 'GUYS': 1, 'BROKE': 1, 'AND HELD': 1, 'ALL DAY\\n\\nTIME FOR': 1, 'STRAP IN': 1, 'WHY RH': 1, 'SPY CHILL TF OUT WTF': 1, 'SPY GO': 1, 'PUMP': 1, 'WHAT WAS ONE BEEEN SQUEEZEN HAS NEVER BEEN SQUOZEN': 1, 'SENS': 5, 'AMC': 18, 'GUYS CHECK OUT CCIV STOCK IT IS FLYING TO THE MOON': 1, 'MAKING BACK ALL MY LOSSES ON GME LIKE': 1, 'BOSS': 1, 'BUY IN NOW MERGER MAYBE ANNOUNCED \\nMONDAY': 1, 'RETURN POSSIBLITY ON MONDAY': 1, 'MOON': 1, 'SPY ATH': 1, 'SEARS': 3, 'FUD': 1, 'APHA': 17, 'CVS': 4, 'WMT': 1, 'SPY CALLS LIIIIIVE': 1, 'NDR': 1, 'XLF': 1, 'VIX': 14, 'FED': 1, 'PTON': 2, 'LFG': 2, 'YTD': 1, 'LOss': 1, 'yOU SeLl': 1, 'GTC': 1, 'UFO': 1, 'CRSR': 15, 'DYOR': 1, 'HIMX': 3, 'MARA': 2, 'MAKE': 1, 'BRASS': 1, 'CNBC': 12, 'WALLSTREETBETS IS TARGETING THE': 1, 'BOY WONDER WITH THE BOUNCE BACK': 1, 'SPY PLEASE STOP': 1, 'WINK': 1, 'AAPL': 15, 'OKAY': 1, 'TESLA': 2, 'DEGENERATE FD SPY': 1, 'MVIS': 3, 'EOD': 9, 'SEC': 14, 'HNNNNNNNNGGGGHHH': 1, 'MBA': 1, 'ASAP': 1, 'DONT GET GREEDY': 1, 'SAY IT AGAIN SO YOU CAN HEAR IT IN THE BACK': 1, 'TESLA BEARS': 1, 'FUK': 1, 'WHY': 2, 'WHAT': 1, 'CLOSE': 1, 'VOY DO IT AGAIN': 1, 'VXX': 5, 'WKHS': 5, 'WHAT THE FUCK': 1, 'HOLY SHIT': 1, 'EMH': 1, 'CEO': 3, 'CPU': 1, 'III': 1, 'CTO': 1, 'CPUs': 4, 'FPGAs': 1, 'PLBY': 1, 'PALANTIR': 2, 'TLRY': 20, 'ROPE': 5, 'FUCK YOU VERY MUCH': 1, 'THANKS': 1, 'WERE FUCKING ROBBED': 1, 'DING DING': 1, 'SPX': 3, 'PENCILS DOWN RETARDANTS': 1, 'STOP BUYING PUTS': 1, 'RETARD DICK SUCK BEARS': 1, 'HOW IS SPY GOING UP': 2, 'FOOKING NOTHIN': 2, 'USPS': 3, 'FORM': 4, 'MRO': 2, 'WSBs': 2, 'FINALLY': 2, 'SHITTON': 2, 'HOLY SHIT SPY': 2, 'BONGO': 2, 'HUGE GREEN': 2, 'TRVG': 2, 'HES': 2, 'COCK': 1, 'YWAR OF THE OX': 1, 'FUCK MY LIFE': 1, 'RIGGED MARKET': 1, 'RIPPED': 1, '0DTE': 3, 'JNUG': 1, 'FUBO': 9, 'FDs': 8, 'GED': 1, 'ICLN': 15, 'ITM': 7, 'PDFs': 1, 'CAN WE GET': 1, 'POSITIONS UPDATE ON THIS': 1, 'LOL': 5, 'NIO': 9, 'PLUG': 15, 'TLDR': 2, 'RIP': 6, 'FCX': 1, 'WAS': 1, 'FSR': 1, 'GPU': 2, 'BOARD OF GOVERNORS': 1, 'FEDERAL RESERVE SYSTEM': 1, 'OPTIONS AND TREN': 1, 'USSR': 1, 'GAMMA': 1, 'AUM': 1, 'LULU': 1, 'SOXX': 1, 'DFV': 1, 'EOY': 1, 'ALREADY': 1, 'XRT': 4, 'ICE': 1, 'SONO': 2, 'LEAP': 2, 'HOW': 1, 'SLV': 6, 'HALP': 1, 'BOTH': 2, 'EXCEPT': 3, 'NOW': 5, 'GTI': 3, 'jOkE ArE': 3, 'fUnNY': 3, 'IPO': 9, 'LOVE': 3, 'LOVE THE STOCK': 3, 'MLP': 4, 'ALOT': 3, 'COVID IMO': 4, 'XOM': 4, 'FATALITY': 3, 'HITIF': 4, 'LOT': 4, 'ARE HEDGE FUNDS SHORTING AMERICA': 3, 'TDP': 3, 'DVF': 3, 'STIMULUSTALKSGOINGWELL': 2, 'aBoUt tHe': 2, 'PHD': 2, 'NVDA': 3, 'IWM': 1, 'BOEING': 1, 'EOW': 2, 'PSA': 1, 'AP1': 1, 'BOMB': 1, 'OW2': 1, 'LMAO': 4, 'ITM CSPs': 1, 'THE': 1, 'CAREs': 1, 'ARK': 4, 'YOLOs': 1, 'REMEMBER THAT': 1, 'IDs': 1, 'CORN': 2, 'NICE BIG CHARTS ON OPEN': 2, 'WHERE': 3, 'HIMS': 5, 'DMV': 3, 'REALLY REALLY VALUABLE': 3, 'VALUABLE THINGS': 3, 'LITTLE VALUE': 3, 'NOT RETARDED': 3, 'PINS': 4, 'APPS': 3, 'FTCH': 3, 'FIRST': 3, 'JPM': 4, 'CSP': 3, 'UWMCs': 3, 'EPS': 13, 'LORD PALMERSTON': 2, 'CPI': 2, 'MASSIVE': 2, 'LMFAOOOOOOO': 1, 'FUCKING DUMBASS': 1, 'BYND': 1, 'GTi': 1, 'CCL': 3, 'TAK': 1, 'MCIBULL': 1, 'TICKERS PLEASE': 1, 'THIS SOUNDS LIKE THE WAY': 1, 'NOBODY': 1, 'LISTENS TO TECHNO': 1, 'WATCHES CABLE TV': 1, 'MSOs': 1, 'USO': 1, 'PLEASE': 1, 'CSPs': 1, 'VIX GOD': 1, 'POP THIS BITCH': 1, 'SPCE': 3, 'WTF': 4, 'FSLY': 1, 'RIOT': 5, 'DNN BABY ANYONE IN THIS BITCH': 1, '1Bn': 1, 'QQQ': 2, 'BABA': 4, 'ARKG': 3, 'UPWK': 3, 'NVTA': 3, 'HELP': 2, 'TSMC': 4, 'BUY THE DIP': 2, 'USA': 2, 'ELY': 1, 'RIP SPY': 1, 'YOU WONT BE FUCKING MISSED': 1, 'PLTRs': 1, 'CURRENT': 1, 'SELL OFF': 1, 'IBM': 6, 'SNOW': 1, 'FDA': 1, 'FTDs': 1, 'FTD': 3, 'RKT': 2, 'ENPH': 1, 'USO LEAP': 1, 'RHs': 1, 'BUY THE FUCKING PLTR DIP': 1, 'REEEEEEEE': 1, 'ARKF': 3, 'NKLA': 1, 'PCs': 1, 'DNN': 3, 'WHY ARE WE IN': 1, 'REEEEEE': 1, 'BECAUSE IT': 1, 'COLD IN TEXAS': 1, 'ACLS': 2, 'MOTHER OF GUH THE CRSR DIP': 1, 'DIP': 1, 'ADRs': 1, 'VIX FDs': 1, 'SWI': 1, 'UVXY': 6, 'GILF': 1, 'SMR': 1, 'EXPECTING': 1, 'CORRECTION': 1, 'OFC': 1, 'TAN': 1, 'BIG TECH IS THE PAST': 1, 'FERTILIZER AND OIL COMPANIES ARE THE FUTURE': 1, 'ELI5': 1, 'TSM': 2, 'ETF': 10, 'SAVA': 1, 'HEXO': 4, 'JFC': 1, 'INTC': 2, 'FCEL': 2, 'VPN': 1, 'BTFD': 2, 'VLDR': 2, 'LEAPS': 3, 'HEXO FN HURRY': 1, 'DASH': 3, 'BURNS': 1, 'SOXL': 4, 'MSTR': 2, 'FOMO': 4, 'AMA': 1, 'IIPR': 1, 'REIT': 1, 'MMs': 1, 'GUHHHH': 1, 'HPTY': 1, 'AMERICAN MANGANESE': 1, 'SELL THE NEWS': 1, 'PRPL': 1, 'GEVO': 1, 'ILAL': 1, 'NOT': 1, 'IRS': 1, 'TQQQ': 1, 'GME LMAO': 1, 'JPow': 1, 'URANIUM': 1, 'OTC': 3, 'NASA': 1, 'SPACEFORCE': 1, 'YESEVERY BUY TSLA PUTS': 1, 'SFX': 1, 'FUCK AAPL VERY MUCH': 1, 'CIA': 2, 'FBI': 2, 'OOOGABOOOGAAAAA': 1, 'FNGU': 1, 'QQQJ': 1, 'IRA': 1, 'REEEEEEEEEEEE': 1, 'END OF DAY GET THE FUCK IN': 1, 'SOO': 1, 'BOOMMMMINGGGGG': 1, 'ATVI': 1, 'THE BURNING CRUSADE': 1, 'ONLY': 1, 'TLRY ER': 1, 'RICH': 1, 'NET': 2, 'ATH': 2, 'GAAP': 4, 'AUPH': 2, 'HODL': 2, 'DIS': 2, 'ALWAYS': 1, 'STILL': 1, 'LYG': 1, 'ONE': 1, 'APPL': 1, 'VOLUME': 5, 'THEY DO NOT WANT TO PAY OUT THE CALLS HENCE WHY IT': 1, 'PAYING PUTS': 4, 'EXACT SAME THING': 1, 'KALEO': 1, 'PUTS': 4, 'CALLS \\n\\n THEY DO NOT WANT TO PAY OUT THE CALLS HENCE WHY IT': 2, 'PLUGuh': 1, 'CLOV': 2, 'OUR': 1, 'MGNI': 1, 'LEDs': 1, 'PSUs': 1, 'SALES': 1, 'CALLS \\n\\n  THEY DO NOT WANT TO PAY OUT THE CALLS HENCE WHY IT': 1, 'MILLION STRONG': 1, 'ATM': 1, 'OSTK': 1, 'MILK WAS': 1, 'BAD CHOICE': 1, 'JMIA': 1, 'UMC': 1, 'SIDEWAYS': 1, 'REMEMBER WHAT THAT OLD FART WARREN BUFFET SAID BUY LOW SELL HIGH': 1, 'WELL ITS LOW NOW MOTHERFUCKERS': 1, 'SNC': 1, 'LETS GO ROLLS': 1, 'EMA': 1, 'ETFs': 3, 'EVERYTHING IS ON SALE': 1, 'CALLS': 1, 'THEY ARE GONNA TAKE YOU ALL SOON': 1, 'THIS SPREAD IS INSANE': 1, 'THIS IS NOT FUN': 1, 'weEd': 1, 'HELP PLEASE': 1, 'WHY IS XPENG RED EVERYDAY': 1, 'GUH HYLN': 1, 'BOOM': 1, 'OPEN THE FUCKIN MARKETTT NNAAOOOWWWWWWWWW': 1, 'CLOSE THE MARKETS': 1, 'SSGA': 1, 'CAN': 1, 'DOYOU': 1, 'GTHX': 1, 'CALL': 1, 'PTSD': 1, 'SHOP': 1, 'PAPA': 1, 'EFT': 1, 'SPXS': 1, 'PSTH': 1, 'VXX \\n\\nUVXY': 1, 'bRo': 1, 'VAR': 1, 'HOLY FKKKK': 1, 'UVXy': 1, 'ARKs': 1, 'RFID': 1, 'STOP THE COUNT': 3, 'GUHHH': 1, 'EXACT': 1, 'SOL': 1, 'GLD': 1, 'FSKR': 1, 'STOP THE STEEEAAAAHHHLLL': 1, 'TNTRQ': 1, 'SEND HELP': 1, 'CCS': 1, 'CLIS': 1, 'THE BUBBLE POPPING': 1, 'REEEEEEEEEEEEE': 1, 'HOLY FUCK': 1, 'OMG': 1, 'OPs': 1, 'FIRE': 1, 'TOO BAD': 1, 'ALREADY SPENT ALL MY CASH ON THEM': 1, 'BUT': 1, 'LIKE THE NEW GME LOGO': 1, 'SOOOO LONG RIGHT NOW': 1, 'BRING IT DOWN': 1, 'THIS': 1, 'ARC': 1, 'TLT': 1, 'HAHAHAH': 1, 'SQqMRBc': 1, 'ARE HOLDING': 1, 'RUN': 1, 'PAWMP EET': 1, 'AST': 1, 'BUt': 1, 'NYC': 1, 'NEVER': 1, 'JPOW': 1}]\n"
     ]
    }
   ],
   "source": [
    "pickle_file = open(\"temp_data.pickle\", \"rb\")\n",
    "objects = []\n",
    "while True:\n",
    "    try:\n",
    "        objects.append(pickle.load(pickle_file))\n",
    "    except EOFError:\n",
    "        break\n",
    "pickle_file.close()\n",
    "\n",
    "print(objects)\n",
    "# OUTPUT"
   ]
  },
  {
   "cell_type": "code",
   "execution_count": 15,
   "metadata": {},
   "outputs": [],
   "source": [
    "create_query =  \"\"\" CREATE TABLE IF NOT EXISTS projects (\n",
    "                                        id integer PRIMARY KEY,\n",
    "                                        TIKR text NOT NULL,\n",
    "                                        TIKR_COUNT integer NOT NULL,\n",
    "                                        created_date text\n",
    "                                    ); \"\"\""
   ]
  },
  {
   "cell_type": "code",
   "execution_count": 16,
   "metadata": {},
   "outputs": [],
   "source": [
    "def create_table(conn, create_table_sql):\n",
    "    \"\"\" create a table from the create_table_sql statement\n",
    "    :param conn: Connection object\n",
    "    :param create_table_sql: a CREATE TABLE statement\n",
    "    :return:\n",
    "    \"\"\"\n",
    "    try:\n",
    "        c = conn.cursor()\n",
    "        c.execute(create_table_sql)\n",
    "    except Error as e:\n",
    "        print(e)"
   ]
  },
  {
   "cell_type": "code",
   "execution_count": 17,
   "metadata": {},
   "outputs": [],
   "source": [
    "def select_table(conn):\n",
    "    c= conn.cursor()\n",
    "    c.execute(\"select * from projects;\")\n",
    "    results = c.fetchall()\n",
    "    print(results)\n",
    "    "
   ]
  },
  {
   "cell_type": "code",
   "execution_count": null,
   "metadata": {},
   "outputs": [],
   "source": [
    "\n"
   ]
  },
  {
   "cell_type": "code",
   "execution_count": 171,
   "metadata": {},
   "outputs": [
    {
     "data": {
      "text/html": [
       "<div>\n",
       "<style scoped>\n",
       "    .dataframe tbody tr th:only-of-type {\n",
       "        vertical-align: middle;\n",
       "    }\n",
       "\n",
       "    .dataframe tbody tr th {\n",
       "        vertical-align: top;\n",
       "    }\n",
       "\n",
       "    .dataframe thead th {\n",
       "        text-align: right;\n",
       "    }\n",
       "</style>\n",
       "<table border=\"1\" class=\"dataframe\">\n",
       "  <thead>\n",
       "    <tr style=\"text-align: right;\">\n",
       "      <th></th>\n",
       "      <th>TICKER</th>\n",
       "      <th>TICKER_COUNT</th>\n",
       "    </tr>\n",
       "  </thead>\n",
       "  <tbody>\n",
       "    <tr>\n",
       "      <th>11</th>\n",
       "      <td>GME</td>\n",
       "      <td>69</td>\n",
       "    </tr>\n",
       "    <tr>\n",
       "      <th>14</th>\n",
       "      <td>WSB</td>\n",
       "      <td>61</td>\n",
       "    </tr>\n",
       "    <tr>\n",
       "      <th>6</th>\n",
       "      <td>PLTR</td>\n",
       "      <td>50</td>\n",
       "    </tr>\n",
       "    <tr>\n",
       "      <th>0</th>\n",
       "      <td>TSLA</td>\n",
       "      <td>25</td>\n",
       "    </tr>\n",
       "    <tr>\n",
       "      <th>12</th>\n",
       "      <td>SPY</td>\n",
       "      <td>25</td>\n",
       "    </tr>\n",
       "    <tr>\n",
       "      <th>104</th>\n",
       "      <td>TLRY</td>\n",
       "      <td>20</td>\n",
       "    </tr>\n",
       "    <tr>\n",
       "      <th>9</th>\n",
       "      <td>SNDL</td>\n",
       "      <td>18</td>\n",
       "    </tr>\n",
       "    <tr>\n",
       "      <th>47</th>\n",
       "      <td>APHA</td>\n",
       "      <td>12</td>\n",
       "    </tr>\n",
       "    <tr>\n",
       "      <th>37</th>\n",
       "      <td>AMC</td>\n",
       "      <td>12</td>\n",
       "    </tr>\n",
       "    <tr>\n",
       "      <th>21</th>\n",
       "      <td>AMD</td>\n",
       "      <td>12</td>\n",
       "    </tr>\n",
       "    <tr>\n",
       "      <th>175</th>\n",
       "      <td>IPO</td>\n",
       "      <td>9</td>\n",
       "    </tr>\n",
       "    <tr>\n",
       "      <th>1</th>\n",
       "      <td>YOLO</td>\n",
       "      <td>9</td>\n",
       "    </tr>\n",
       "    <tr>\n",
       "      <th>68</th>\n",
       "      <td>CNBC</td>\n",
       "      <td>7</td>\n",
       "    </tr>\n",
       "    <tr>\n",
       "      <th>138</th>\n",
       "      <td>ITM</td>\n",
       "      <td>7</td>\n",
       "    </tr>\n",
       "    <tr>\n",
       "      <th>53</th>\n",
       "      <td>VIX</td>\n",
       "      <td>6</td>\n",
       "    </tr>\n",
       "    <tr>\n",
       "      <th>167</th>\n",
       "      <td>SLV</td>\n",
       "      <td>6</td>\n",
       "    </tr>\n",
       "    <tr>\n",
       "      <th>78</th>\n",
       "      <td>EOD</td>\n",
       "      <td>5</td>\n",
       "    </tr>\n",
       "    <tr>\n",
       "      <th>135</th>\n",
       "      <td>FDs</td>\n",
       "      <td>5</td>\n",
       "    </tr>\n",
       "    <tr>\n",
       "      <th>210</th>\n",
       "      <td>HIMS</td>\n",
       "      <td>5</td>\n",
       "    </tr>\n",
       "    <tr>\n",
       "      <th>117</th>\n",
       "      <td>FORM</td>\n",
       "      <td>4</td>\n",
       "    </tr>\n",
       "    <tr>\n",
       "      <th>15</th>\n",
       "      <td>NOK</td>\n",
       "      <td>4</td>\n",
       "    </tr>\n",
       "    <tr>\n",
       "      <th>180</th>\n",
       "      <td>COVID IMO</td>\n",
       "      <td>4</td>\n",
       "    </tr>\n",
       "    <tr>\n",
       "      <th>183</th>\n",
       "      <td>HITIF</td>\n",
       "      <td>4</td>\n",
       "    </tr>\n",
       "    <tr>\n",
       "      <th>184</th>\n",
       "      <td>LOT</td>\n",
       "      <td>4</td>\n",
       "    </tr>\n",
       "    <tr>\n",
       "      <th>2</th>\n",
       "      <td>OTM</td>\n",
       "      <td>4</td>\n",
       "    </tr>\n",
       "  </tbody>\n",
       "</table>\n",
       "</div>"
      ],
      "text/plain": [
       "        TICKER  TICKER_COUNT\n",
       "11         GME            69\n",
       "14         WSB            61\n",
       "6         PLTR            50\n",
       "0         TSLA            25\n",
       "12         SPY            25\n",
       "104       TLRY            20\n",
       "9         SNDL            18\n",
       "47        APHA            12\n",
       "37         AMC            12\n",
       "21         AMD            12\n",
       "175        IPO             9\n",
       "1         YOLO             9\n",
       "68        CNBC             7\n",
       "138        ITM             7\n",
       "53         VIX             6\n",
       "167        SLV             6\n",
       "78         EOD             5\n",
       "135        FDs             5\n",
       "210       HIMS             5\n",
       "117       FORM             4\n",
       "15         NOK             4\n",
       "180  COVID IMO             4\n",
       "183      HITIF             4\n",
       "184        LOT             4\n",
       "2          OTM             4"
      ]
     },
     "execution_count": 171,
     "metadata": {},
     "output_type": "execute_result"
    }
   ],
   "source": [
    "df.sort_values(by = ['TICKER_COUNT'],ascending = False).head(25)\n"
   ]
  },
  {
   "cell_type": "code",
   "execution_count": 184,
   "metadata": {},
   "outputs": [],
   "source": [
    "#Create an empty variable\n",
    "empty_list = []\n",
    "#Open the pickle file in 'wb' so that you can write and dump the empty variable\n",
    "openfile = open('temp_data.pickle', 'wb')\n",
    "pickle.dump(empty_list, openfile)\n",
    "openfile.close()"
   ]
  }
 ],
 "metadata": {
  "kernelspec": {
   "display_name": "Python 3",
   "language": "python",
   "name": "python3"
  },
  "language_info": {
   "codemirror_mode": {
    "name": "ipython",
    "version": 3
   },
   "file_extension": ".py",
   "mimetype": "text/x-python",
   "name": "python",
   "nbconvert_exporter": "python",
   "pygments_lexer": "ipython3",
   "version": "3.7.1"
  }
 },
 "nbformat": 4,
 "nbformat_minor": 4
}
